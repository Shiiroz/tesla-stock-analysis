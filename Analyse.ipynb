{
 "cells": [
  {
   "cell_type": "markdown",
   "id": "4bc4c98b",
   "metadata": {},
   "source": [
    "# 🚗📈 Plan d’Analyse pour ton projet Tesla\n",
    "\n",
    "---\n",
    "\n",
    "## 1. 🗂️ Prise en main des données\n",
    "\n",
    "- **Afficher les premières lignes, vérifier les types de variables**\n",
    "- **Nettoyage de base** (valeurs manquantes, doublons, formats)\n",
    "\n",
    "---\n",
    "\n",
    "## 2. 🔎 Analyse exploratoire (EDA)\n",
    "\n",
    "- **Statistiques descriptives** (moyenne, min, max, etc.)\n",
    "- **Visualisation rapide** des tendances (courbe du prix de clôture, volume, etc.)\n",
    "\n",
    "---\n",
    "\n",
    "## 3. 💡 Questions business / Hypothèses\n",
    "\n",
    "**Exemples :**\n",
    "- Comment a évolué le cours de Tesla sur la période ?\n",
    "- Y a-t-il une corrélation entre volume échangé et volatilité ?\n",
    "- Identifier les plus fortes hausses/baisse, ou périodes intéressantes\n",
    "\n",
    "---\n",
    "\n",
    "## 4. 📊 Visualisation avancée\n",
    "\n",
    "- Courbe d’évolution\n",
    "- Histogrammes\n",
    "- Boxplots\n",
    "- Heatmap de corrélation\n",
    "\n",
    "---\n",
    "\n",
    "## 5. 📝 Insights clés & synthèse\n",
    "\n",
    "- Ce que tu retiens, axes d’analyse complémentaires, prochaines étapes\n",
    "\n",
    "---\n",
    "\n",
    "\n"
   ]
  },
  {
   "cell_type": "code",
   "execution_count": 1,
   "id": "a6220244",
   "metadata": {},
   "outputs": [],
   "source": [
    "import pandas as pd\n",
    "import numpy as np"
   ]
  },
  {
   "cell_type": "code",
   "execution_count": 6,
   "id": "81a91f58",
   "metadata": {},
   "outputs": [],
   "source": [
    "df = pd.read_csv('Tesla_stock_data.csv' , )"
   ]
  },
  {
   "cell_type": "code",
   "execution_count": 8,
   "id": "3df294d3",
   "metadata": {},
   "outputs": [
    {
     "name": "stdout",
     "output_type": "stream",
     "text": [
      "         Date     Close      High       Low      Open     Volume\n",
      "0  2010-06-29  1.592667  1.666667  1.169333  1.266667  281494500\n",
      "1  2010-06-30  1.588667  2.028000  1.553333  1.719333  257806500\n",
      "2  2010-07-01  1.464000  1.728000  1.351333  1.666667  123282000\n",
      "3  2010-07-02  1.280000  1.540000  1.247333  1.533333   77097000\n",
      "4  2010-07-06  1.074000  1.333333  1.055333  1.333333  103003500\n"
     ]
    }
   ],
   "source": [
    "print(df.head())"
   ]
  },
  {
   "cell_type": "code",
   "execution_count": 9,
   "id": "539cf485",
   "metadata": {},
   "outputs": [
    {
     "name": "stdout",
     "output_type": "stream",
     "text": [
      "<class 'pandas.core.frame.DataFrame'>\n",
      "RangeIndex: 3765 entries, 0 to 3764\n",
      "Data columns (total 6 columns):\n",
      " #   Column  Non-Null Count  Dtype  \n",
      "---  ------  --------------  -----  \n",
      " 0   Date    3765 non-null   object \n",
      " 1   Close   3765 non-null   float64\n",
      " 2   High    3765 non-null   float64\n",
      " 3   Low     3765 non-null   float64\n",
      " 4   Open    3765 non-null   float64\n",
      " 5   Volume  3765 non-null   int64  \n",
      "dtypes: float64(4), int64(1), object(1)\n",
      "memory usage: 176.6+ KB\n",
      "None\n"
     ]
    }
   ],
   "source": [
    "# Affichage des informations sur le DataFrame\n",
    "print(df.info())"
   ]
  },
  {
   "cell_type": "code",
   "execution_count": 10,
   "id": "26c76cf2",
   "metadata": {},
   "outputs": [
    {
     "name": "stdout",
     "output_type": "stream",
     "text": [
      "Date      0\n",
      "Close     0\n",
      "High      0\n",
      "Low       0\n",
      "Open      0\n",
      "Volume    0\n",
      "dtype: int64\n"
     ]
    }
   ],
   "source": [
    "#verification des valeurs manquantes\n",
    "print(df.isnull().sum())"
   ]
  },
  {
   "cell_type": "code",
   "execution_count": 11,
   "id": "8dd6934c",
   "metadata": {},
   "outputs": [
    {
     "name": "stdout",
     "output_type": "stream",
     "text": [
      "             Close         High          Low         Open        Volume\n",
      "count  3765.000000  3765.000000  3765.000000  3765.000000  3.765000e+03\n",
      "mean     88.567852    90.581117    86.465378    88.593070  9.707503e+07\n",
      "std     113.754319   116.450259   110.987632   113.848771  7.689793e+07\n",
      "min       1.053333     1.108667     0.998667     1.076000  1.777500e+06\n",
      "25%      12.506000    12.764667    12.183333    12.446667  5.014650e+07\n",
      "50%      18.807333    19.118668    18.466667    18.799999  8.319150e+07\n",
      "75%     191.300003   196.360001   186.339996   191.456665  1.225740e+08\n",
      "max     479.859985   488.540009   457.510010   475.899994  9.140820e+08\n"
     ]
    }
   ],
   "source": [
    "#addicher les statistiques descriptives\n",
    "print(df.describe())"
   ]
  },
  {
   "cell_type": "code",
   "execution_count": 12,
   "id": "2ab5a1cb",
   "metadata": {},
   "outputs": [
    {
     "name": "stdout",
     "output_type": "stream",
     "text": [
      "0\n"
     ]
    }
   ],
   "source": [
    "#verifier les doublons\n",
    "print(df.duplicated().sum())"
   ]
  },
  {
   "cell_type": "code",
   "execution_count": 14,
   "id": "a73594dc",
   "metadata": {},
   "outputs": [
    {
     "name": "stdout",
     "output_type": "stream",
     "text": [
      "Date      datetime64[ns]\n",
      "Close            float64\n",
      "High             float64\n",
      "Low              float64\n",
      "Open             float64\n",
      "Volume             int64\n",
      "dtype: object\n"
     ]
    }
   ],
   "source": [
    "#optionnel : convversion de la colonne 'Date' en datetime\n",
    "df['Date'] = pd.to_datetime(df['Date'])\n",
    "print(df.dtypes)"
   ]
  },
  {
   "cell_type": "markdown",
   "id": "59a118fa",
   "metadata": {},
   "source": [
    "## ✅ Étapes réalisées jusqu’ici\n",
    "\n",
    "- ✔️ **Vérification des doublons**\n",
    "- ✔️ **Conversion de la colonne `Date` au format datetime**\n",
    "- ✔️ **Analyse des types de variables**\n",
    "- ✔️ **Vérification des valeurs manquantes**\n",
    "- ✔️ **Calcul des statistiques descriptives (moyenne, min, max, etc.)**\n",
    "\n"
   ]
  },
  {
   "cell_type": "code",
   "execution_count": null,
   "id": "d89dc8c3",
   "metadata": {},
   "outputs": [],
   "source": []
  },
  {
   "cell_type": "code",
   "execution_count": null,
   "id": "c0ad9a63",
   "metadata": {},
   "outputs": [],
   "source": []
  }
 ],
 "metadata": {
  "kernelspec": {
   "display_name": "base",
   "language": "python",
   "name": "python3"
  },
  "language_info": {
   "codemirror_mode": {
    "name": "ipython",
    "version": 3
   },
   "file_extension": ".py",
   "mimetype": "text/x-python",
   "name": "python",
   "nbconvert_exporter": "python",
   "pygments_lexer": "ipython3",
   "version": "3.12.7"
  }
 },
 "nbformat": 4,
 "nbformat_minor": 5
}
